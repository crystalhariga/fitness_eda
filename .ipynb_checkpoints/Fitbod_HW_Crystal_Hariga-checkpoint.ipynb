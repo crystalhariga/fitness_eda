{
 "cells": [
  {
   "cell_type": "markdown",
   "id": "04dbeb7a",
   "metadata": {},
   "source": [
    "# Fitbod HW\n",
    "## Cahyarini (Crystal) Hariga\n",
    "\n",
    "Question that will be focused on:\n",
    "1. How are users utilizing Fitbod's app for their fitness goals?"
   ]
  },
  {
   "cell_type": "code",
   "execution_count": 78,
   "id": "e592fb19",
   "metadata": {},
   "outputs": [],
   "source": [
    "# Importing libraries\n",
    "import pandas as pd\n",
    "import matplotlib.pyplot as plt\n",
    "import seaborn as sns\n",
    "from wordcloud import WordCloud\n",
    "from collections import Counter\n",
    "import numpy as np\n",
    "\n",
    "# Setting up plotting templates\n",
    "sns.set_style(\"whitegrid\") # theme\n",
    "sns.set_palette(\"Pastel1\") # color palette\n",
    "sns.set(font_scale =1) # font size"
   ]
  },
  {
   "cell_type": "code",
   "execution_count": 112,
   "id": "268317fc",
   "metadata": {},
   "outputs": [
    {
     "data": {
      "text/html": [
       "<div>\n",
       "<style scoped>\n",
       "    .dataframe tbody tr th:only-of-type {\n",
       "        vertical-align: middle;\n",
       "    }\n",
       "\n",
       "    .dataframe tbody tr th {\n",
       "        vertical-align: top;\n",
       "    }\n",
       "\n",
       "    .dataframe thead th {\n",
       "        text-align: right;\n",
       "    }\n",
       "</style>\n",
       "<table border=\"1\" class=\"dataframe\">\n",
       "  <thead>\n",
       "    <tr style=\"text-align: right;\">\n",
       "      <th></th>\n",
       "      <th>Date</th>\n",
       "      <th>workoutId</th>\n",
       "      <th>exerciseId</th>\n",
       "      <th>singleSetId</th>\n",
       "      <th>exerciseName</th>\n",
       "      <th>reps</th>\n",
       "      <th>weight</th>\n",
       "      <th>fake_user_id</th>\n",
       "    </tr>\n",
       "  </thead>\n",
       "  <tbody>\n",
       "    <tr>\n",
       "      <th>0</th>\n",
       "      <td>2021-07-01</td>\n",
       "      <td>87aB6F9SBc</td>\n",
       "      <td>pM3aRwuufC</td>\n",
       "      <td>2Ef9bES8oX</td>\n",
       "      <td>Stability Ball Hyperextension</td>\n",
       "      <td>10</td>\n",
       "      <td>0.000000</td>\n",
       "      <td>fake_id_531</td>\n",
       "    </tr>\n",
       "    <tr>\n",
       "      <th>1</th>\n",
       "      <td>2021-10-26</td>\n",
       "      <td>Ly4x0zYLg2</td>\n",
       "      <td>3GvUTFN8up</td>\n",
       "      <td>EOzunaWERE</td>\n",
       "      <td>Calf Raise</td>\n",
       "      <td>11</td>\n",
       "      <td>0.000000</td>\n",
       "      <td>fake_id_586</td>\n",
       "    </tr>\n",
       "    <tr>\n",
       "      <th>2</th>\n",
       "      <td>2021-04-23</td>\n",
       "      <td>tmPdFzpZbY</td>\n",
       "      <td>1mSqEHZVVv</td>\n",
       "      <td>DiQZdXoCsQ</td>\n",
       "      <td>Machine Reverse Fly</td>\n",
       "      <td>8</td>\n",
       "      <td>45.359291</td>\n",
       "      <td>fake_id_568</td>\n",
       "    </tr>\n",
       "    <tr>\n",
       "      <th>3</th>\n",
       "      <td>2021-05-09</td>\n",
       "      <td>zQF4UcAHiM</td>\n",
       "      <td>UQBXLgsfXN</td>\n",
       "      <td>untHO1vmxB</td>\n",
       "      <td>Dumbbell Shrug</td>\n",
       "      <td>9</td>\n",
       "      <td>22.500000</td>\n",
       "      <td>fake_id_541</td>\n",
       "    </tr>\n",
       "    <tr>\n",
       "      <th>4</th>\n",
       "      <td>2021-05-26</td>\n",
       "      <td>HtdthBumna</td>\n",
       "      <td>aIzmfLklht</td>\n",
       "      <td>JBHj8t70D3</td>\n",
       "      <td>Dumbbell Step Up</td>\n",
       "      <td>10</td>\n",
       "      <td>4.535929</td>\n",
       "      <td>fake_id_560</td>\n",
       "    </tr>\n",
       "    <tr>\n",
       "      <th>5</th>\n",
       "      <td>2021-03-30</td>\n",
       "      <td>oNYRDlFGZk</td>\n",
       "      <td>BN1DjSE1Zi</td>\n",
       "      <td>3R4GKfF0Wf</td>\n",
       "      <td>Romanian Deadlift</td>\n",
       "      <td>8</td>\n",
       "      <td>52.163185</td>\n",
       "      <td>fake_id_536</td>\n",
       "    </tr>\n",
       "    <tr>\n",
       "      <th>6</th>\n",
       "      <td>2021-05-03</td>\n",
       "      <td>5DOT4pJPh8</td>\n",
       "      <td>3GvUTFN8up</td>\n",
       "      <td>DoGByGVH6Z</td>\n",
       "      <td>Calf Raise</td>\n",
       "      <td>11</td>\n",
       "      <td>0.000000</td>\n",
       "      <td>fake_id_568</td>\n",
       "    </tr>\n",
       "    <tr>\n",
       "      <th>7</th>\n",
       "      <td>2021-10-28</td>\n",
       "      <td>xnpycxQ8vB</td>\n",
       "      <td>EAjKaB5zWy</td>\n",
       "      <td>YGNh3ZsaS5</td>\n",
       "      <td>Dumbbell Kickbacks</td>\n",
       "      <td>14</td>\n",
       "      <td>4.535929</td>\n",
       "      <td>fake_id_547</td>\n",
       "    </tr>\n",
       "    <tr>\n",
       "      <th>8</th>\n",
       "      <td>2021-02-23</td>\n",
       "      <td>LNFyHHT0Fz</td>\n",
       "      <td>4IMiKZHvCG</td>\n",
       "      <td>eVsCeog1JL</td>\n",
       "      <td>Shotgun Row</td>\n",
       "      <td>3</td>\n",
       "      <td>22.679645</td>\n",
       "      <td>fake_id_551</td>\n",
       "    </tr>\n",
       "    <tr>\n",
       "      <th>9</th>\n",
       "      <td>2021-07-26</td>\n",
       "      <td>dRAqr3Fwtt</td>\n",
       "      <td>gALxFFZcI4</td>\n",
       "      <td>PGYNCfc8Xu</td>\n",
       "      <td>Dumbbell Decline Bench Press</td>\n",
       "      <td>12</td>\n",
       "      <td>29.483539</td>\n",
       "      <td>fake_id_564</td>\n",
       "    </tr>\n",
       "  </tbody>\n",
       "</table>\n",
       "</div>"
      ],
      "text/plain": [
       "         Date   workoutId  exerciseId singleSetId  \\\n",
       "0  2021-07-01  87aB6F9SBc  pM3aRwuufC  2Ef9bES8oX   \n",
       "1  2021-10-26  Ly4x0zYLg2  3GvUTFN8up  EOzunaWERE   \n",
       "2  2021-04-23  tmPdFzpZbY  1mSqEHZVVv  DiQZdXoCsQ   \n",
       "3  2021-05-09  zQF4UcAHiM  UQBXLgsfXN  untHO1vmxB   \n",
       "4  2021-05-26  HtdthBumna  aIzmfLklht  JBHj8t70D3   \n",
       "5  2021-03-30  oNYRDlFGZk  BN1DjSE1Zi  3R4GKfF0Wf   \n",
       "6  2021-05-03  5DOT4pJPh8  3GvUTFN8up  DoGByGVH6Z   \n",
       "7  2021-10-28  xnpycxQ8vB  EAjKaB5zWy  YGNh3ZsaS5   \n",
       "8  2021-02-23  LNFyHHT0Fz  4IMiKZHvCG  eVsCeog1JL   \n",
       "9  2021-07-26  dRAqr3Fwtt  gALxFFZcI4  PGYNCfc8Xu   \n",
       "\n",
       "                    exerciseName  reps     weight fake_user_id  \n",
       "0  Stability Ball Hyperextension    10   0.000000  fake_id_531  \n",
       "1                     Calf Raise    11   0.000000  fake_id_586  \n",
       "2            Machine Reverse Fly     8  45.359291  fake_id_568  \n",
       "3                 Dumbbell Shrug     9  22.500000  fake_id_541  \n",
       "4               Dumbbell Step Up    10   4.535929  fake_id_560  \n",
       "5              Romanian Deadlift     8  52.163185  fake_id_536  \n",
       "6                     Calf Raise    11   0.000000  fake_id_568  \n",
       "7             Dumbbell Kickbacks    14   4.535929  fake_id_547  \n",
       "8                    Shotgun Row     3  22.679645  fake_id_551  \n",
       "9   Dumbbell Decline Bench Press    12  29.483539  fake_id_564  "
      ]
     },
     "execution_count": 112,
     "metadata": {},
     "output_type": "execute_result"
    }
   ],
   "source": [
    "# Reading the data\n",
    "df = pd.read_csv('fitbod_Crystal_Cahyarini_Hariga_20220408-153528.csv')\n",
    "df.head(10)"
   ]
  },
  {
   "cell_type": "markdown",
   "id": "2b9461db",
   "metadata": {},
   "source": [
    "## Overall Data"
   ]
  },
  {
   "cell_type": "code",
   "execution_count": 23,
   "id": "a891e310",
   "metadata": {},
   "outputs": [
    {
     "name": "stdout",
     "output_type": "stream",
     "text": [
      "Date            0\n",
      "workoutId       0\n",
      "exerciseId      0\n",
      "singleSetId     0\n",
      "exerciseName    0\n",
      "reps            0\n",
      "weight          0\n",
      "fake_user_id    0\n",
      "dtype: int64\n",
      "Date             object\n",
      "workoutId        object\n",
      "exerciseId       object\n",
      "singleSetId      object\n",
      "exerciseName     object\n",
      "reps              int64\n",
      "weight          float64\n",
      "fake_user_id     object\n",
      "dtype: object\n"
     ]
    }
   ],
   "source": [
    "# Check for missing values\n",
    "print(df.isnull().sum())\n",
    "print(df.dtypes)"
   ]
  },
  {
   "cell_type": "code",
   "execution_count": 236,
   "id": "2e677aaf",
   "metadata": {},
   "outputs": [
    {
     "data": {
      "text/plain": [
       "Date            datetime64[ns]\n",
       "workoutId               object\n",
       "exerciseId              object\n",
       "singleSetId             object\n",
       "exerciseName            object\n",
       "reps                     int64\n",
       "weight                 float64\n",
       "fake_user_id            object\n",
       "weight_bins           category\n",
       "Month                period[M]\n",
       "dtype: object"
      ]
     },
     "execution_count": 236,
     "metadata": {},
     "output_type": "execute_result"
    }
   ],
   "source": [
    "## Convert date into month\n",
    "df[\"Date\"] = pd.to_datetime(df[\"Date\"])\n",
    "df[\"Month\"] = df['Date'].dt.to_period('M')\n",
    "df.head()\n",
    "df.dtypes\n",
    "\n",
    "# Checking values counts for each column to double-check for null values and observe data within\n",
    "# d1 = df[\"Date\"].value_counts()\n",
    "# print(d1)"
   ]
  },
  {
   "cell_type": "code",
   "execution_count": 179,
   "id": "0aeb182d",
   "metadata": {},
   "outputs": [
    {
     "data": {
      "text/plain": [
       "<AxesSubplot:title={'center':'Date Distribution'}>"
      ]
     },
     "execution_count": 179,
     "metadata": {},
     "output_type": "execute_result"
    },
    {
     "data": {
      "image/png": "[encoded data removed]",
      "text/plain": [
       "<Figure size 432x288 with 1 Axes>"
      ]
     },
     "metadata": {},
     "output_type": "display_data"
    }
   ],
   "source": [
    "# Plotting date distribution to understand the dataset\n",
    "fig1 = d1.plot.line(title = \"Date Distribution\")\n",
    "plt.xticks(rotation = 360)\n",
    "fig1"
   ]
  },
  {
   "cell_type": "markdown",
   "id": "c5775896",
   "metadata": {},
   "source": [
    "The plot above describes:\n",
    "* How distributed the data is based on its date, which has more data in early 2021, but evenly distributed for the rest of the year\n"
   ]
  },
  {
   "cell_type": "code",
   "execution_count": 35,
   "id": "dd57df6e",
   "metadata": {},
   "outputs": [
    {
     "data": {
      "text/plain": [
       "TasjLzSkZL    30\n",
       "qKDSREiCT1    30\n",
       "EofUrropEV    25\n",
       "b2j5oNU9pJ    25\n",
       "uwxcoHul4t    25\n",
       "              ..\n",
       "ShaXX9LCFF     1\n",
       "WS6SsEhtm4     1\n",
       "ivHEAKrmFX     1\n",
       "3ksGBE1vUV     1\n",
       "Mvf6hAndeY     1\n",
       "Name: workoutId, Length: 4976, dtype: int64"
      ]
     },
     "execution_count": 35,
     "metadata": {},
     "output_type": "execute_result"
    }
   ],
   "source": [
    "df[\"workoutId\"].value_counts()"
   ]
  },
  {
   "cell_type": "code",
   "execution_count": 7,
   "id": "e5e186d0",
   "metadata": {},
   "outputs": [
    {
     "data": {
      "text/plain": [
       "G1mxtZtEs5    1578\n",
       "AF7Qq7XK2r    1289\n",
       "EAjKaB5zWy    1220\n",
       "djuvlRHUvb     985\n",
       "otjt26R0oL     963\n",
       "              ... \n",
       "SGoBKeSD4r       7\n",
       "LaUm5Jl8hd       6\n",
       "CTAGAxuKs9       3\n",
       "dldAGWTRYw       3\n",
       "olwH9a4pKv       3\n",
       "Name: exerciseId, Length: 105, dtype: int64"
      ]
     },
     "execution_count": 7,
     "metadata": {},
     "output_type": "execute_result"
    }
   ],
   "source": [
    "df[\"exerciseId\"].value_counts()"
   ]
  },
  {
   "cell_type": "code",
   "execution_count": 8,
   "id": "685915bb",
   "metadata": {},
   "outputs": [
    {
     "data": {
      "text/plain": [
       "2Ef9bES8oX    1\n",
       "047E5YHTOL    1\n",
       "R2bcuImfz8    1\n",
       "bDv0EU0IYK    1\n",
       "A5pIDPHecE    1\n",
       "             ..\n",
       "dF1AQSW1SH    1\n",
       "H8EiO3smBJ    1\n",
       "mqQI3PyoUV    1\n",
       "KccIgmWpfl    1\n",
       "jsk5NGLo7y    1\n",
       "Name: singleSetId, Length: 31279, dtype: int64"
      ]
     },
     "execution_count": 8,
     "metadata": {},
     "output_type": "execute_result"
    }
   ],
   "source": [
    "df[\"singleSetId\"].value_counts()"
   ]
  },
  {
   "cell_type": "code",
   "execution_count": 9,
   "id": "2ec11eb6",
   "metadata": {},
   "outputs": [
    {
     "data": {
      "text/plain": [
       "Back Squat                      1578\n",
       "Air Squats                      1289\n",
       "Dumbbell Kickbacks              1220\n",
       "Dumbbell Rear Delt Raise         985\n",
       "Barbell Shoulder Press           963\n",
       "                                ... \n",
       "TRX Single Leg Squat               7\n",
       "Sled Pull                          6\n",
       "Kettlebell Pistol Squat            3\n",
       "Forward Stability Ball Plank       3\n",
       "Knee Raise                         3\n",
       "Name: exerciseName, Length: 105, dtype: int64"
      ]
     },
     "execution_count": 9,
     "metadata": {},
     "output_type": "execute_result"
    }
   ],
   "source": [
    "df[\"exerciseName\"].value_counts()"
   ]
  },
  {
   "cell_type": "code",
   "execution_count": 47,
   "id": "f6e7943f",
   "metadata": {},
   "outputs": [
    {
     "data": {
      "image/png": "[encoded data removed]",
      "text/plain": [
       "<Figure size 432x288 with 1 Axes>"
      ]
     },
     "metadata": {},
     "output_type": "display_data"
    }
   ],
   "source": [
    "# Plot exerciseName to understand what are the top 10 exercises\n",
    "exercise_str = Counter(df['exerciseName'])\n",
    "wordcloud = WordCloud(max_words = 10, background_color = \"White\", collocations = False, colormap = \"tab20\").generate_from_frequencies(exercise_str)\n",
    "plt.imshow(wordcloud, interpolation = \"bilinear\")\n",
    "plt.axis(\"off\")\n",
    "plt.show()"
   ]
  },
  {
   "cell_type": "markdown",
   "id": "97779d07",
   "metadata": {},
   "source": [
    "From the wordcloud above we can understand that:\n",
    "* Back Squat, Air Squats, Dumbbell Kickbacks are the top 3 exercises\n",
    "* We can hypothesize that these represent exercises that do not require equipment\n",
    "* Thus we may deduce that majority of Fitbod users utilize the app for at-home exercises"
   ]
  },
  {
   "cell_type": "code",
   "execution_count": 52,
   "id": "232b2017",
   "metadata": {},
   "outputs": [],
   "source": [
    "r1 = df[\"reps\"].value_counts()[:10]"
   ]
  },
  {
   "cell_type": "code",
   "execution_count": 54,
   "id": "2100cf2d",
   "metadata": {},
   "outputs": [
    {
     "data": {
      "text/plain": [
       "<AxesSubplot:title={'center':'Rep Distribution'}>"
      ]
     },
     "execution_count": 54,
     "metadata": {},
     "output_type": "execute_result"
    },
    {
     "data": {
      "image/png": "[encoded data removed]",
      "text/plain": [
       "<Figure size 432x288 with 1 Axes>"
      ]
     },
     "metadata": {},
     "output_type": "display_data"
    }
   ],
   "source": [
    "# Plot to understand popular number of reps\n",
    "fig2 = r1.plot.bar(title = \"Rep Distribution\")\n",
    "plt.xticks(rotation = 360)\n",
    "fig2"
   ]
  },
  {
   "cell_type": "markdown",
   "id": "4528bbeb",
   "metadata": {},
   "source": [
    "The figure above shows:\n",
    "* The most popular rep count is 10, 8, 12, 15 in the overall dataset"
   ]
  },
  {
   "cell_type": "code",
   "execution_count": 116,
   "id": "2c150fe0",
   "metadata": {},
   "outputs": [
    {
     "data": {
      "text/plain": [
       "0.00      8911\n",
       "9.07      1419\n",
       "4.54      1145\n",
       "6.80      1114\n",
       "11.34      985\n",
       "          ... \n",
       "102.51       1\n",
       "7.71         1\n",
       "130.00       1\n",
       "61.00        1\n",
       "29.00        1\n",
       "Name: weight, Length: 222, dtype: int64"
      ]
     },
     "execution_count": 116,
     "metadata": {},
     "output_type": "execute_result"
    }
   ],
   "source": [
    "df[\"weight\"] = df[\"weight\"].round(2)\n",
    "df[\"weight\"].value_counts()"
   ]
  },
  {
   "cell_type": "code",
   "execution_count": 196,
   "id": "d837b399",
   "metadata": {},
   "outputs": [
    {
     "data": {
      "image/png": "[encoded data removed]",
      "text/plain": [
       "<Figure size 432x288 with 1 Axes>"
      ]
     },
     "metadata": {},
     "output_type": "display_data"
    }
   ],
   "source": [
    "# Plot to understand popular number of weights\n",
    "# dist = sns.displot(df, x = \"weight\", binwidth = 20, palette = \"Accent_r\")\n",
    "dist = sns.boxplot(x = df[\"weight\"])\n",
    "dist = plt.title(\"Weight Distribution\") # label title"
   ]
  },
  {
   "cell_type": "markdown",
   "id": "3e9d7172",
   "metadata": {},
   "source": [
    "Insights from the chart above:\n",
    "* Many outliers beyond 80kg equipment weight\n",
    "* Majority workouts do not involve any weight equipment\n",
    "* Indicates that the focus are often on exercises without weights, aligning with wordcloud results"
   ]
  },
  {
   "cell_type": "code",
   "execution_count": 13,
   "id": "621a6bd4",
   "metadata": {},
   "outputs": [
    {
     "data": {
      "text/plain": [
       "fake_id_531    1636\n",
       "fake_id_541    1537\n",
       "fake_id_537    1119\n",
       "fake_id_532    1114\n",
       "fake_id_545    1070\n",
       "               ... \n",
       "fake_id_596      16\n",
       "fake_id_597      15\n",
       "fake_id_604       7\n",
       "fake_id_603       5\n",
       "fake_id_600       5\n",
       "Name: fake_user_id, Length: 81, dtype: int64"
      ]
     },
     "execution_count": 13,
     "metadata": {},
     "output_type": "execute_result"
    }
   ],
   "source": [
    "df[\"fake_user_id\"].value_counts()"
   ]
  },
  {
   "cell_type": "markdown",
   "id": "9b3bad87",
   "metadata": {},
   "source": [
    "From the overall analysis of the data, we can understand that the overall data involves workouts that do not involve equipment and weights, such as Back Squat and Air Squats. And that the data runs from January to July of 2021.\n",
    "\n",
    "\n",
    "## Individual User\n",
    "Next, we want to identify how an average user uses Fitbod.\n",
    "\n",
    "1. For a typical user\n",
    "* average workouts per month\n",
    "* average sets per workout\n",
    "* average weight per sets\n",
    "* average reps per sets\n",
    "* Popular exercises per user by month\n"
   ]
  },
  {
   "cell_type": "code",
   "execution_count": 237,
   "id": "79eed62b",
   "metadata": {},
   "outputs": [
    {
     "data": {
      "text/html": [
       "<div>\n",
       "<style scoped>\n",
       "    .dataframe tbody tr th:only-of-type {\n",
       "        vertical-align: middle;\n",
       "    }\n",
       "\n",
       "    .dataframe tbody tr th {\n",
       "        vertical-align: top;\n",
       "    }\n",
       "\n",
       "    .dataframe thead th {\n",
       "        text-align: right;\n",
       "    }\n",
       "</style>\n",
       "<table border=\"1\" class=\"dataframe\">\n",
       "  <thead>\n",
       "    <tr style=\"text-align: right;\">\n",
       "      <th></th>\n",
       "      <th>Month</th>\n",
       "      <th>fake_user_id</th>\n",
       "      <th>workoutId</th>\n",
       "      <th>singleSetId</th>\n",
       "      <th>reps</th>\n",
       "      <th>exerciseName</th>\n",
       "      <th>weight</th>\n",
       "    </tr>\n",
       "  </thead>\n",
       "  <tbody>\n",
       "    <tr>\n",
       "      <th>0</th>\n",
       "      <td>2021-01</td>\n",
       "      <td>fake_id_524</td>\n",
       "      <td>3bgttWmkDt</td>\n",
       "      <td>19TulnSaHt</td>\n",
       "      <td>8</td>\n",
       "      <td>Dumbbell Pullover</td>\n",
       "      <td>11.34</td>\n",
       "    </tr>\n",
       "    <tr>\n",
       "      <th>1</th>\n",
       "      <td>2021-01</td>\n",
       "      <td>fake_id_524</td>\n",
       "      <td>3bgttWmkDt</td>\n",
       "      <td>1VDo0tAWDD</td>\n",
       "      <td>8</td>\n",
       "      <td>Dumbbell Kickbacks</td>\n",
       "      <td>6.80</td>\n",
       "    </tr>\n",
       "    <tr>\n",
       "      <th>2</th>\n",
       "      <td>2021-01</td>\n",
       "      <td>fake_id_524</td>\n",
       "      <td>3bgttWmkDt</td>\n",
       "      <td>WUNQrsxA68</td>\n",
       "      <td>8</td>\n",
       "      <td>Dumbbell Shoulder Raise</td>\n",
       "      <td>4.54</td>\n",
       "    </tr>\n",
       "    <tr>\n",
       "      <th>3</th>\n",
       "      <td>2021-01</td>\n",
       "      <td>fake_id_524</td>\n",
       "      <td>3bgttWmkDt</td>\n",
       "      <td>b6xmBO9vIm</td>\n",
       "      <td>8</td>\n",
       "      <td>Dumbbell Kickbacks</td>\n",
       "      <td>6.80</td>\n",
       "    </tr>\n",
       "    <tr>\n",
       "      <th>4</th>\n",
       "      <td>2021-01</td>\n",
       "      <td>fake_id_524</td>\n",
       "      <td>3bgttWmkDt</td>\n",
       "      <td>fZzDwrkveZ</td>\n",
       "      <td>8</td>\n",
       "      <td>Dumbbell Kickbacks</td>\n",
       "      <td>6.80</td>\n",
       "    </tr>\n",
       "  </tbody>\n",
       "</table>\n",
       "</div>"
      ],
      "text/plain": [
       "     Month fake_user_id   workoutId singleSetId  reps  \\\n",
       "0  2021-01  fake_id_524  3bgttWmkDt  19TulnSaHt     8   \n",
       "1  2021-01  fake_id_524  3bgttWmkDt  1VDo0tAWDD     8   \n",
       "2  2021-01  fake_id_524  3bgttWmkDt  WUNQrsxA68     8   \n",
       "3  2021-01  fake_id_524  3bgttWmkDt  b6xmBO9vIm     8   \n",
       "4  2021-01  fake_id_524  3bgttWmkDt  fZzDwrkveZ     8   \n",
       "\n",
       "              exerciseName  weight  \n",
       "0        Dumbbell Pullover   11.34  \n",
       "1       Dumbbell Kickbacks    6.80  \n",
       "2  Dumbbell Shoulder Raise    4.54  \n",
       "3       Dumbbell Kickbacks    6.80  \n",
       "4       Dumbbell Kickbacks    6.80  "
      ]
     },
     "execution_count": 237,
     "metadata": {},
     "output_type": "execute_result"
    }
   ],
   "source": [
    "## Aggregate data by user\n",
    "# Using median considering presence of outliers\n",
    "df_user = df.groupby(['Month', 'fake_user_id', 'workoutId', 'singleSetId', 'reps', 'exerciseName']).agg(weight = (\"weight\", \"median\")).round(2).reset_index()\n",
    "df_user.head()\n",
    "\n",
    "## Aggregate by month\n",
    "#### average workouts per month\n",
    "\n",
    "## aggregate by workout\n",
    "#### average"
   ]
  },
  {
   "cell_type": "code",
   "execution_count": 248,
   "id": "85cdbc54",
   "metadata": {},
   "outputs": [
    {
     "name": "stdout",
     "output_type": "stream",
     "text": [
      "Text(0.5, 1.0, 'Workout Count Distribution')\n"
     ]
    },
    {
     "data": {
      "image/png": "[encoded data removed]",
      "text/plain": [
       "<Figure size 432x288 with 1 Axes>"
      ]
     },
     "metadata": {},
     "output_type": "display_data"
    }
   ],
   "source": [
    "# Average Workouts\n",
    "### workout counts per month\n",
    "df_wo = df_user.groupby([ \"Month\", \"fake_user_id\"]).agg(workoutCount = (\"workoutId\", \"count\")).reset_index()\n",
    "df_wo.head()\n",
    "\n",
    "# Plotting boxplot to identify outliers \n",
    "dist = sns.boxplot(x = df_wo[\"workoutCount\"])\n",
    "dist = plt.title(\"Workout Count Distribution\")\n",
    "print(dist)"
   ]
  },
  {
   "cell_type": "code",
   "execution_count": 249,
   "id": "574f6358",
   "metadata": {},
   "outputs": [
    {
     "data": {
      "text/plain": [
       "Text(0, 0.5, 'Number of Workouts')"
      ]
     },
     "execution_count": 249,
     "metadata": {},
     "output_type": "execute_result"
    },
    {
     "data": {
      "image/png": "[encoded data removed]",
      "text/plain": [
       "<Figure size 432x288 with 1 Axes>"
      ]
     },
     "metadata": {},
     "output_type": "display_data"
    }
   ],
   "source": [
    "### median workouts per month\n",
    "### using median based on boxplot results\n",
    "df_wo_avg = df_wo.groupby([\"Month\"]).agg(avg_workoutCount = (\"workoutCount\", \"median\")).round().reset_index()\n",
    "df_wo_avg['Month'] = df_wo_avg['Month'].astype(str)\n",
    "df_wo_avg[\"Month\"] = pd.to_datetime(df_wo_avg[\"Month\"])\n",
    "df_wo_avg.dtypes\n",
    "df_wo_avg.head()\n",
    "\n",
    "\n",
    "sns.lineplot(data = df_wo_avg, x=\"Month\", y = \"avg_workoutCount\")\n",
    "plt.title(\"Median Workouts per Month\")\n",
    "plt.ylabel('Number of Workouts')"
   ]
  },
  {
   "cell_type": "markdown",
   "id": "1d75192c",
   "metadata": {},
   "source": [
    "Insights:\n",
    "* Users tend to workout more during the winter months\n",
    "* This could indicate preparation for warmer activities, in which people tend to do outdoor activities more than indoor ones -- not working out during warmer months"
   ]
  },
  {
   "cell_type": "code",
   "execution_count": null,
   "id": "2ce81214",
   "metadata": {},
   "outputs": [],
   "source": [
    "# average sets per workout\n",
    "# average weight per sets\n",
    "# average reps per sets\n",
    "# Popular exercises per user by month"
   ]
  }
 ],
 "metadata": {
  "kernelspec": {
   "display_name": "Python 3 (ipykernel)",
   "language": "python",
   "name": "python3"
  },
  "language_info": {
   "codemirror_mode": {
    "name": "ipython",
    "version": 3
   },
   "file_extension": ".py",
   "mimetype": "text/x-python",
   "name": "python",
   "nbconvert_exporter": "python",
   "pygments_lexer": "ipython3",
   "version": "3.9.7"
  },
  "varInspector": {
   "cols": {
    "lenName": 16,
    "lenType": 16,
    "lenVar": 40
   },
   "kernels_config": {
    "python": {
     "delete_cmd_postfix": "",
     "delete_cmd_prefix": "del ",
     "library": "var_list.py",
     "varRefreshCmd": "print(var_dic_list())"
    },
    "r": {
     "delete_cmd_postfix": ") ",
     "delete_cmd_prefix": "rm(",
     "library": "var_list.r",
     "varRefreshCmd": "cat(var_dic_list()) "
    }
   },
   "position": {
    "height": "252.844px",
    "left": "803px",
    "right": "20px",
    "top": "55px",
    "width": "356px"
   },
   "types_to_exclude": [
    "module",
    "function",
    "builtin_function_or_method",
    "instance",
    "_Feature"
   ],
   "window_display": true
  }
 },
 "nbformat": 4,
 "nbformat_minor": 5
}
